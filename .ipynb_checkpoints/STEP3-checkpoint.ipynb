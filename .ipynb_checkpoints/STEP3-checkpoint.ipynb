{
 "cells": [
  {
   "cell_type": "code",
   "execution_count": 2,
   "metadata": {},
   "outputs": [
    {
     "ename": "SyntaxError",
     "evalue": "Missing parentheses in call to 'print'. Did you mean print(print 'Invalid syntax')? (<ipython-input-2-b870ea0add41>, line 55)",
     "output_type": "error",
     "traceback": [
      "\u001b[0;36m  File \u001b[0;32m\"<ipython-input-2-b870ea0add41>\"\u001b[0;36m, line \u001b[0;32m55\u001b[0m\n\u001b[0;31m    print 'Invalid syntax'\u001b[0m\n\u001b[0m                         ^\u001b[0m\n\u001b[0;31mSyntaxError\u001b[0m\u001b[0;31m:\u001b[0m Missing parentheses in call to 'print'. Did you mean print(print 'Invalid syntax')?\n"
     ]
    }
   ],
   "source": [
    "def readNumber(line, index):\n",
    "    number = 0\n",
    "    flag = 0\n",
    "    keta = 1\n",
    "    while index < len(line) and (line[index].isdigit() or line[index] == '.'):\n",
    "        if line[index] == '.':\n",
    "            flag = 1\n",
    "        else:\n",
    "            number = number * 10 + int(line[index])\n",
    "            if flag == 1:\n",
    "                keta *= 0.1\n",
    "        index += 1\n",
    "    token = {'type': 'NUMBER', 'number': number * keta}\n",
    "    return token, index\n",
    "\n",
    "\n",
    "def readPlus(line, index):\n",
    "    token = {'type': 'PLUS'}\n",
    "    return token, index + 1\n",
    "\n",
    "\n",
    "def readMinus(line, index):\n",
    "    token = {'type': 'MINUS'}\n",
    "    return token, index + 1\n",
    "\n",
    "\n",
    "def tokenize(line):#tokens[]を作る\n",
    "    tokens = []\n",
    "    index = 0\n",
    "    while index < len(line):\n",
    "        if line[index].isdigit():\n",
    "            (token, index) = readNumber(line, index)\n",
    "        elif line[index] == '+':\n",
    "            (token, index) = readPlus(line, index)\n",
    "        elif line[index] == '-':\n",
    "            (token, index) = readMinus(line, index)\n",
    "        else:\n",
    "            print ('Invalid character found: ' + line[index])\n",
    "            exit(1)\n",
    "        tokens.append(token)\n",
    "    return tokens\n",
    "\n",
    "\n",
    "def evaluate(tokens):#tokensを読み取って計算していく\n",
    "    answer = 0\n",
    "    tokens.insert(0, {'type': 'PLUS'}) # Insert a dummy '+' token\n",
    "    index = 1\n",
    "    while index < len(tokens):\n",
    "        if tokens[index]['type'] == 'NUMBER':\n",
    "            if tokens[index - 1]['type'] == 'PLUS':\n",
    "                answer += tokens[index]['number']\n",
    "            elif tokens[index - 1]['type'] == 'MINUS':\n",
    "                answer -= tokens[index]['number']\n",
    "            else:\n",
    "                print 'Invalid syntax'\n",
    "        index += 1\n",
    "    return answer\n",
    "\n",
    "\n",
    "def test(line, expectedAnswer):\n",
    "    tokens = tokenize(line)\n",
    "    actualAnswer = evaluate(tokens)\n",
    "    if abs(actualAnswer - expectedAnswer) < 1e-8:\n",
    "        print \"PASS! (%s = %f)\" % (line, expectedAnswer)\n",
    "    else:\n",
    "        print \"FAIL! (%s should be %f but was %f)\" % (line, expectedAnswer, actualAnswer)\n",
    "\n",
    "\n",
    "# Add more tests to this function :)\n",
    "def runTest():\n",
    "    print \"==== Test started! ====\"\n",
    "    test(\"1+2*3\", 7)\n",
    "    test(\"1.0+2*3\", 7.0)\n",
    "    test(\"1.0+2.0*3\",7.0)\n",
    "    test(\"1.0+2.0*3.0\"7.0)\n",
    "    test(\"8/4-2.0*3.0\",-4.0)\n",
    "    print \"==== Test finished! ====\\n\"\n",
    "\n",
    "runTest()\n",
    "\n",
    "while True:\n",
    "    print '> ',\n",
    "    line = raw_input()\n",
    "    tokens = tokenize(line)\n",
    "    answer = evaluate(tokens)\n",
    "    print \"answer = %f\\n\" % answer\n"
   ]
  },
  {
   "cell_type": "code",
   "execution_count": null,
   "metadata": {
    "collapsed": true
   },
   "outputs": [],
   "source": []
  }
 ],
 "metadata": {
  "kernelspec": {
   "display_name": "Python 3",
   "language": "python",
   "name": "python3"
  },
  "language_info": {
   "codemirror_mode": {
    "name": "ipython",
    "version": 3
   },
   "file_extension": ".py",
   "mimetype": "text/x-python",
   "name": "python",
   "nbconvert_exporter": "python",
   "pygments_lexer": "ipython3",
   "version": "3.6.3"
  }
 },
 "nbformat": 4,
 "nbformat_minor": 2
}
