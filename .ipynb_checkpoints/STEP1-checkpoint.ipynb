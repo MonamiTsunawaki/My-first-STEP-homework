{
 "cells": [
  {
   "cell_type": "code",
   "execution_count": 19,
   "metadata": {},
   "outputs": [
    {
     "data": {
      "text/plain": [
       "'winter'"
      ]
     },
     "execution_count": 19,
     "metadata": {},
     "output_type": "execute_result"
    }
   ],
   "source": [
    "def sortbox(given):\n",
    "    list1 = list(given)\n",
    "    list1.sort()\n",
    "    list1 = ''.join(list1)\n",
    "    return list1\n",
    "\n",
    "with open('dictionary.words.txt', 'r') as f:\n",
    "    dic = []\n",
    "    list_for_search = []\n",
    "    for word in f:\n",
    "        word = word.rstrip('\\n')\n",
    "        dic.append(word)\n",
    "    dic2 = {sortbox(word2.lower()) : word2 for word2 in dic}\n",
    "    list_for_search = list(dic2.keys())\n",
    "    list_for_search.sort()\n",
    "    \n",
    "def binary_search(mylist, myitem):\n",
    "    length = len(mylist)\n",
    "    if length == 0 or mylist[0] > myitem:\n",
    "        pass\n",
    "    else:\n",
    "        if mylist[(length)//2] == myitem:\n",
    "            return True\n",
    "        elif mylist[(length)//2] < myitem:\n",
    "            return binary_search(mylist[(length)//2 +1:],myitem)\n",
    "        elif mylist[(length)//2] > myitem:\n",
    "            return binary_search(mylist[0:((length)//2)],myitem)\n",
    "    return False\n",
    "\n",
    "def find_words(given_words):\n",
    "    if binary_search(list_for_search, sortbox(given_words)) == True:\n",
    "        return dic2[sortbox(given_words)]\n",
    "    else:\n",
    "        print('None')\n",
    "        \n",
    "find_words('wntire')"
   ]
  },
  {
   "cell_type": "code",
   "execution_count": null,
   "metadata": {
    "collapsed": true
   },
   "outputs": [],
   "source": []
  }
 ],
 "metadata": {
  "kernelspec": {
   "display_name": "Python 3",
   "language": "python",
   "name": "python3"
  },
  "language_info": {
   "codemirror_mode": {
    "name": "ipython",
    "version": 3
   },
   "file_extension": ".py",
   "mimetype": "text/x-python",
   "name": "python",
   "nbconvert_exporter": "python",
   "pygments_lexer": "ipython3",
   "version": "3.6.3"
  }
 },
 "nbformat": 4,
 "nbformat_minor": 2
}
